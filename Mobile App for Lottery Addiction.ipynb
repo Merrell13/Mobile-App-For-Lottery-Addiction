{
 "cells": [
  {
   "cell_type": "markdown",
   "metadata": {},
   "source": [
    "# Mobile App for Lottery Addiction\n",
    "\n",
    "Many people start playing the lottery for fun, but for some this activity turns into a habit which eventually escalates into addiction. Like other compulsive gamblers, lottery addicts soon begin spending from their savings and loans, they start to accumulate debts, and eventually engage in desperate behaviors like theft.\n",
    "\n",
    "A medical institute that aims to prevent and treat gambling addictions wants to build a dedicated mobile app to help lottery addicts better estimate their chances of winning. The institute has a team of engineers that will build the app, but they need us to create the logical core of the app and calculate probabilities.\n",
    "\n",
    "For the first version of the app, they want us to focus on the 6/49 lottery and build functions that enable users to answer questions like:\n",
    "\n",
    "- What is the probability of winning the big prize with a single ticket?\n",
    "- What is the probability of winning the big prize if we play 40 different tickets (or any other number)?\n",
    "- What is the probability of having at least five (or four, or three, or two) winning numbers on a single ticket?\n",
    "- The institute also wants us to consider historical data coming from the national 6/49 lottery game in Canada. The data set has data for 3,665 drawings, dating from 1982 to 2018\n",
    "\n",
    "Let's start by creating a core functions to find factorials and combinations which will be vital for calculating probabilites.\n",
    "\n",
    "# Core Functions"
   ]
  },
  {
   "cell_type": "code",
   "execution_count": 1,
   "metadata": {},
   "outputs": [],
   "source": [
    "# Function to find factorial\n",
    "def factorial(n):\n",
    "    factorial = 1\n",
    "    for i in range(n, 0, - 1):\n",
    "        factorial *= i\n",
    "    return factorial\n",
    "\n",
    "# Function to find combination\n",
    "def combinations(n, k):\n",
    "    numerator = factorial(n)\n",
    "    denominator = factorial(k) * factorial(n - k) \n",
    "    return numerator / denominator"
   ]
  },
  {
   "cell_type": "markdown",
   "metadata": {},
   "source": [
    "Now we can use these functions to calculate the probability of winning the 6/49 lottery with just 1 ticket. The user can input a list of 6 numbers and see how likely they are to win.\n",
    "\n",
    "# Probability of winning the lottery with 1 Ticket"
   ]
  },
  {
   "cell_type": "code",
   "execution_count": 2,
   "metadata": {},
   "outputs": [
    {
     "data": {
      "text/plain": [
       "'You have a 0.000007% chance of winning the lottery with these numbers.'"
      ]
     },
     "execution_count": 2,
     "metadata": {},
     "output_type": "execute_result"
    }
   ],
   "source": [
    "# Function to find probability of winning lottery with one ticket\n",
    "def one_ticket_probability(list_of_6):\n",
    "    # Only accept lists of 6\n",
    "    if len(list_of_6) != 6:\n",
    "        return \"Please enter 6 numbers\"\n",
    "    # Only accept whole numbers\n",
    "    for n in list_of_6:\n",
    "        if type(n) != int:\n",
    "            return \"Must be whole numbers\"\n",
    "        # Only accept numbers between 1 and 49\n",
    "        if n == 0 or n > 49:\n",
    "            return \"Numbers must be between 1 and 49\"\n",
    "    # Total outcomes\n",
    "    outcomes = combinations(49, len(list_of_6))\n",
    "    # Total successful ooutcomes\n",
    "    succesful_outcomes = 1\n",
    "    percentage = (succesful_outcomes / outcomes) * 100\n",
    "    return \"You have a {:8f}% chance of winning the lottery with these numbers.\".format(percentage)\n",
    "\n",
    "test = one_ticket_probability([1, 2, 3, 4, 5, 7])\n",
    "test"
   ]
  },
  {
   "cell_type": "markdown",
   "metadata": {},
   "source": [
    "Well, those odds aren't very good. Let's have a look at how the lottery has gone in practice. I am going to read in a dataset coming from the national 6/49 lottery game in Canada .The data set has data for 3,665 drawings, dating from 1982 to 2018.\n",
    "\n",
    "# Historical 6/49 Draws"
   ]
  },
  {
   "cell_type": "code",
   "execution_count": 3,
   "metadata": {},
   "outputs": [
    {
     "name": "stdout",
     "output_type": "stream",
     "text": [
      "(3665, 11)\n"
     ]
    },
    {
     "data": {
      "text/html": [
       "<div>\n",
       "<style scoped>\n",
       "    .dataframe tbody tr th:only-of-type {\n",
       "        vertical-align: middle;\n",
       "    }\n",
       "\n",
       "    .dataframe tbody tr th {\n",
       "        vertical-align: top;\n",
       "    }\n",
       "\n",
       "    .dataframe thead th {\n",
       "        text-align: right;\n",
       "    }\n",
       "</style>\n",
       "<table border=\"1\" class=\"dataframe\">\n",
       "  <thead>\n",
       "    <tr style=\"text-align: right;\">\n",
       "      <th></th>\n",
       "      <th>PRODUCT</th>\n",
       "      <th>DRAW NUMBER</th>\n",
       "      <th>SEQUENCE NUMBER</th>\n",
       "      <th>DRAW DATE</th>\n",
       "      <th>NUMBER DRAWN 1</th>\n",
       "      <th>NUMBER DRAWN 2</th>\n",
       "      <th>NUMBER DRAWN 3</th>\n",
       "      <th>NUMBER DRAWN 4</th>\n",
       "      <th>NUMBER DRAWN 5</th>\n",
       "      <th>NUMBER DRAWN 6</th>\n",
       "      <th>BONUS NUMBER</th>\n",
       "    </tr>\n",
       "  </thead>\n",
       "  <tbody>\n",
       "    <tr>\n",
       "      <th>0</th>\n",
       "      <td>649</td>\n",
       "      <td>1</td>\n",
       "      <td>0</td>\n",
       "      <td>6/12/1982</td>\n",
       "      <td>3</td>\n",
       "      <td>11</td>\n",
       "      <td>12</td>\n",
       "      <td>14</td>\n",
       "      <td>41</td>\n",
       "      <td>43</td>\n",
       "      <td>13</td>\n",
       "    </tr>\n",
       "    <tr>\n",
       "      <th>1</th>\n",
       "      <td>649</td>\n",
       "      <td>2</td>\n",
       "      <td>0</td>\n",
       "      <td>6/19/1982</td>\n",
       "      <td>8</td>\n",
       "      <td>33</td>\n",
       "      <td>36</td>\n",
       "      <td>37</td>\n",
       "      <td>39</td>\n",
       "      <td>41</td>\n",
       "      <td>9</td>\n",
       "    </tr>\n",
       "    <tr>\n",
       "      <th>2</th>\n",
       "      <td>649</td>\n",
       "      <td>3</td>\n",
       "      <td>0</td>\n",
       "      <td>6/26/1982</td>\n",
       "      <td>1</td>\n",
       "      <td>6</td>\n",
       "      <td>23</td>\n",
       "      <td>24</td>\n",
       "      <td>27</td>\n",
       "      <td>39</td>\n",
       "      <td>34</td>\n",
       "    </tr>\n",
       "  </tbody>\n",
       "</table>\n",
       "</div>"
      ],
      "text/plain": [
       "   PRODUCT  DRAW NUMBER  SEQUENCE NUMBER  DRAW DATE  NUMBER DRAWN 1  \\\n",
       "0      649            1                0  6/12/1982               3   \n",
       "1      649            2                0  6/19/1982               8   \n",
       "2      649            3                0  6/26/1982               1   \n",
       "\n",
       "   NUMBER DRAWN 2  NUMBER DRAWN 3  NUMBER DRAWN 4  NUMBER DRAWN 5  \\\n",
       "0              11              12              14              41   \n",
       "1              33              36              37              39   \n",
       "2               6              23              24              27   \n",
       "\n",
       "   NUMBER DRAWN 6  BONUS NUMBER  \n",
       "0              43            13  \n",
       "1              41             9  \n",
       "2              39            34  "
      ]
     },
     "execution_count": 3,
     "metadata": {},
     "output_type": "execute_result"
    }
   ],
   "source": [
    "# Import Pandas\n",
    "import pandas as pd\n",
    "\n",
    "# Read into DataFrame\n",
    "drawings = pd.read_csv(\"649.csv\")\n",
    "# Number of columns and rows\n",
    "print(drawings.shape)\n",
    "# Show top 3 rows\n",
    "drawings.head(3)"
   ]
  },
  {
   "cell_type": "code",
   "execution_count": 4,
   "metadata": {},
   "outputs": [
    {
     "data": {
      "text/html": [
       "<div>\n",
       "<style scoped>\n",
       "    .dataframe tbody tr th:only-of-type {\n",
       "        vertical-align: middle;\n",
       "    }\n",
       "\n",
       "    .dataframe tbody tr th {\n",
       "        vertical-align: top;\n",
       "    }\n",
       "\n",
       "    .dataframe thead th {\n",
       "        text-align: right;\n",
       "    }\n",
       "</style>\n",
       "<table border=\"1\" class=\"dataframe\">\n",
       "  <thead>\n",
       "    <tr style=\"text-align: right;\">\n",
       "      <th></th>\n",
       "      <th>PRODUCT</th>\n",
       "      <th>DRAW NUMBER</th>\n",
       "      <th>SEQUENCE NUMBER</th>\n",
       "      <th>DRAW DATE</th>\n",
       "      <th>NUMBER DRAWN 1</th>\n",
       "      <th>NUMBER DRAWN 2</th>\n",
       "      <th>NUMBER DRAWN 3</th>\n",
       "      <th>NUMBER DRAWN 4</th>\n",
       "      <th>NUMBER DRAWN 5</th>\n",
       "      <th>NUMBER DRAWN 6</th>\n",
       "      <th>BONUS NUMBER</th>\n",
       "    </tr>\n",
       "  </thead>\n",
       "  <tbody>\n",
       "    <tr>\n",
       "      <th>3662</th>\n",
       "      <td>649</td>\n",
       "      <td>3589</td>\n",
       "      <td>0</td>\n",
       "      <td>6/13/2018</td>\n",
       "      <td>6</td>\n",
       "      <td>22</td>\n",
       "      <td>24</td>\n",
       "      <td>31</td>\n",
       "      <td>32</td>\n",
       "      <td>34</td>\n",
       "      <td>16</td>\n",
       "    </tr>\n",
       "    <tr>\n",
       "      <th>3663</th>\n",
       "      <td>649</td>\n",
       "      <td>3590</td>\n",
       "      <td>0</td>\n",
       "      <td>6/16/2018</td>\n",
       "      <td>2</td>\n",
       "      <td>15</td>\n",
       "      <td>21</td>\n",
       "      <td>31</td>\n",
       "      <td>38</td>\n",
       "      <td>49</td>\n",
       "      <td>8</td>\n",
       "    </tr>\n",
       "    <tr>\n",
       "      <th>3664</th>\n",
       "      <td>649</td>\n",
       "      <td>3591</td>\n",
       "      <td>0</td>\n",
       "      <td>6/20/2018</td>\n",
       "      <td>14</td>\n",
       "      <td>24</td>\n",
       "      <td>31</td>\n",
       "      <td>35</td>\n",
       "      <td>37</td>\n",
       "      <td>48</td>\n",
       "      <td>17</td>\n",
       "    </tr>\n",
       "  </tbody>\n",
       "</table>\n",
       "</div>"
      ],
      "text/plain": [
       "      PRODUCT  DRAW NUMBER  SEQUENCE NUMBER  DRAW DATE  NUMBER DRAWN 1  \\\n",
       "3662      649         3589                0  6/13/2018               6   \n",
       "3663      649         3590                0  6/16/2018               2   \n",
       "3664      649         3591                0  6/20/2018              14   \n",
       "\n",
       "      NUMBER DRAWN 2  NUMBER DRAWN 3  NUMBER DRAWN 4  NUMBER DRAWN 5  \\\n",
       "3662              22              24              31              32   \n",
       "3663              15              21              31              38   \n",
       "3664              24              31              35              37   \n",
       "\n",
       "      NUMBER DRAWN 6  BONUS NUMBER  \n",
       "3662              34            16  \n",
       "3663              49             8  \n",
       "3664              48            17  "
      ]
     },
     "execution_count": 4,
     "metadata": {},
     "output_type": "execute_result"
    }
   ],
   "source": [
    "# Show bottom 3 rows\n",
    "drawings.tail(3)"
   ]
  },
  {
   "cell_type": "markdown",
   "metadata": {},
   "source": [
    "Each row is a different draw. I am now going to extract each draw and create a fucntion which takes a list of 6 numbers from a user and checks to see if those 6 numbers have ever won:"
   ]
  },
  {
   "cell_type": "code",
   "execution_count": 5,
   "metadata": {},
   "outputs": [
    {
     "data": {
      "text/plain": [
       "'Your numbers have won the lottery the following number of times: 0 .'"
      ]
     },
     "execution_count": 5,
     "metadata": {},
     "output_type": "execute_result"
    }
   ],
   "source": [
    "# Extract lottery draws from dataset\n",
    "def extract_numbers(row):\n",
    "    the_list = []\n",
    "    for i in row[4:10]:\n",
    "        the_list.append(i)\n",
    "    return set(the_list)\n",
    "\n",
    "# Apply function to Dataset\n",
    "winning_numbers = drawings.apply(extract_numbers, axis=1)\n",
    "\n",
    "# Function to find if numbers have ever won before\n",
    "def check_historical_occurence(user_nums):\n",
    "    user_nums = set(user_nums)\n",
    "    matches = 0\n",
    "    for sets in winning_numbers:\n",
    "        if user_nums == sets:\n",
    "            matches += 1\n",
    "    return 'Your numbers have won the lottery the following number of times: {} .'.format(matches)\n",
    "\n",
    "# Test\n",
    "test = check_historical_occurence([4, 41, 11, 12, 43, 14])\n",
    "test"
   ]
  },
  {
   "cell_type": "markdown",
   "metadata": {},
   "source": [
    "The next function will take in a list of 6 numbers and return both the probability of winning and the number of times those numbers have won in past draws."
   ]
  },
  {
   "cell_type": "code",
   "execution_count": 6,
   "metadata": {},
   "outputs": [
    {
     "name": "stdout",
     "output_type": "stream",
     "text": [
      "\n",
      "    Your numbers have won the lottery the following number of times: 0 .\n",
      "    \n",
      "    You have a 0.000007% chance of winning the lottery with these numbers.\n",
      "    \n"
     ]
    }
   ],
   "source": [
    "# Function to show probability and historic occurances\n",
    "def probability_and_historic(user_nums):\n",
    "    a = check_historical_occurence(user_nums)\n",
    "    b = one_ticket_probability(user_nums)\n",
    "    return \"\"\"\n",
    "    {}\n",
    "    \n",
    "    {}\n",
    "    \"\"\".format(a, b)\n",
    "# Test\n",
    "print(probability_and_historic([4, 41, 11, 12, 43, 14]))"
   ]
  },
  {
   "cell_type": "markdown",
   "metadata": {},
   "source": [
    "These odds are very bad. However, some people buy multiple tickets. Let's see if this improves their odds:\n",
    "\n",
    "# Winning with multiple tickets"
   ]
  },
  {
   "cell_type": "code",
   "execution_count": 7,
   "metadata": {},
   "outputs": [
    {
     "name": "stdout",
     "output_type": "stream",
     "text": [
      "You have a 0.071511% chance of winning the lottery with 10000 tickets\n",
      "-----------------------------------------------------\n",
      "You have a 0.214534% chance of winning the lottery with 30000 tickets\n",
      "-----------------------------------------------------\n",
      "You have a 0.357556% chance of winning the lottery with 50000 tickets\n",
      "-----------------------------------------------------\n",
      "You have a 0.500579% chance of winning the lottery with 70000 tickets\n",
      "-----------------------------------------------------\n",
      "You have a 0.643601% chance of winning the lottery with 90000 tickets\n",
      "-----------------------------------------------------\n"
     ]
    }
   ],
   "source": [
    "# Function to check probability with multiple tickets\n",
    "def multi_ticket_probability(n):\n",
    "    outcomes = combinations(49, 6)\n",
    "    success_outcomes = n\n",
    "    percentage = (success_outcomes / outcomes) * 100\n",
    "    return \"You have a {:8f}% chance of winning the lottery with {} tickets\".format(percentage, n)\n",
    "\n",
    "# Test\n",
    "for i in range(10000, 100000, 20000):\n",
    "    print(multi_ticket_probability(i))\n",
    "    print(\"-----------------------------------------------------\")"
   ]
  },
  {
   "cell_type": "markdown",
   "metadata": {},
   "source": [
    "Wow, that didn't help very much! Even with 90,000 tickets you still only have a 0.64% chance of winning. So, we know that matching 6 numbers is very tough but what about matching less than 6 and winning a smaller prize?\n",
    "\n",
    "# Matching less than 6 numbers"
   ]
  },
  {
   "cell_type": "code",
   "execution_count": 8,
   "metadata": {},
   "outputs": [
    {
     "name": "stdout",
     "output_type": "stream",
     "text": [
      "You have a 0.001845% chance of matching 5 numbers\n",
      "-----------------------------------------------------\n",
      "You have a 0.096862% chance of matching 4 numbers\n",
      "-----------------------------------------------------\n",
      "You have a 1.765040% chance of matching 3 numbers\n",
      "-----------------------------------------------------\n",
      "You have a 13.237803% chance of matching 2 numbers\n",
      "-----------------------------------------------------\n"
     ]
    }
   ],
   "source": [
    "# Function to check probabilites of matching 5, 4, 3 and 2 numbers\n",
    "def probability_less_6(n):\n",
    "    if n < 2 or n > 6 or type(n) != int:\n",
    "        return \"Invalid number\"\n",
    "    \n",
    "    number_combinations = combinations(6, n)\n",
    "    success_per_combination = combinations(43, 6-n) \n",
    "    \n",
    "    successful_outcomes = number_combinations * success_per_combination\n",
    "    outcomes = combinations(49, 6)\n",
    "    \n",
    "    percentage = (successful_outcomes / outcomes) * 100\n",
    "    return \"You have a {:8f}% chance of matching {} numbers\".format(percentage, n)\n",
    "\n",
    "# Test\n",
    "for i in range(5, 1, -1):\n",
    "    print(probability_less_6(i))\n",
    "    print(\"-----------------------------------------------------\")"
   ]
  },
  {
   "cell_type": "code",
   "execution_count": 9,
   "metadata": {},
   "outputs": [
    {
     "name": "stdout",
     "output_type": "stream",
     "text": [
      "You have a 0.001888% chance of matching at least 5 numbers\n",
      "-----------------------------------------------------\n",
      "You have a 0.101474% chance of matching at least 4 numbers\n",
      "-----------------------------------------------------\n",
      "You have a 1.894190% chance of matching at least 3 numbers\n",
      "-----------------------------------------------------\n",
      "You have a 14.561583% chance of matching at least 2 numbers\n",
      "-----------------------------------------------------\n"
     ]
    }
   ],
   "source": [
    "# Function to check probabilites of matching at least 5, 4, 3 and 2 numbers\n",
    "def probability_at_least(n):\n",
    "    if n < 2 or n > 6 or type(n) != int:\n",
    "        return \"Invalid number\"\n",
    "    \n",
    "    number_combinations = combinations(6, n)\n",
    "    success_per_combination = combinations(44, 6-n) \n",
    "    \n",
    "    successful_outcomes = number_combinations * success_per_combination\n",
    "    outcomes = combinations(49, 6)\n",
    "    \n",
    "    percentage = (successful_outcomes / outcomes) * 100\n",
    "    return \"You have a {:8f}% chance of matching at least {} numbers\".format(percentage, n)\n",
    "\n",
    "# Test\n",
    "for i in range(5, 1, -1):\n",
    "    print(probability_at_least(i))\n",
    "    print(\"-----------------------------------------------------\")"
   ]
  },
  {
   "cell_type": "markdown",
   "metadata": {},
   "source": [
    "The first function above shows the probability of matching exactly 2, 3, 4 or 5 numbers whilst the second matches at least 2, 3, 4 or 5 numbers. As expected the probability gets much better the less numbers we need to match. However, prizes for matching 2 numbers are low and the odds still aren't very good.\n",
    "\n",
    "It's clear at this point that playing the lottery is not a wise investment. However, perhaps all the numbers are a bit dull and aren't enough to persuade someone how unlikely they are to win. I am going to write a final function that will output a comparison between winning the lottery with 1 ticket to other unlikely events. The events that I will be comparing to are the following:\n",
    "\n",
    "Killed by a shark = 1 in 3.7 million\n",
    "Succesfully apply to be a NASA astronout = 1 in 1525 \n",
    "Injured by a toilet = 1 in 10000\n",
    "Struck by lightning = 1 in 114195\n",
    "Meet love of your life on any given day = 1 in 562\n",
    "Win an Olympic Gold Medal = 1 in 662000\n",
    "Win an Oscar = 1 in 115000\n",
    "\n",
    "# Compare Odds to Other Events"
   ]
  },
  {
   "cell_type": "code",
   "execution_count": 10,
   "metadata": {},
   "outputs": [
    {
     "data": {
      "text/plain": [
       "'You are 122.46 times more likely to be struck by lightning than win the 6/49 lottery'"
      ]
     },
     "execution_count": 10,
     "metadata": {},
     "output_type": "execute_result"
    }
   ],
   "source": [
    "# Import random module\n",
    "import random\n",
    "\n",
    "# Lottery outcomes\n",
    "lottery = 13983816\n",
    "\n",
    "# Comparison function\n",
    "def compare_odds():\n",
    "    n = random.randint(1, 7)\n",
    "    if n == 1:\n",
    "        return \"You are {} times more likely to be killed by a shark than win the 6/49 lottery\".format(round(lottery \n",
    "                                                                                                       / 3700000, 2))\n",
    "    if n == 2:\n",
    "        return \"You are {} times more likely to succesfully apply to be a NASA Astronaut than win the 6/49 lottery\".format(round(lottery \n",
    "                                                                                                       / 1525, 2))\n",
    "    if n == 3:\n",
    "        return \"You are {} times more likely to be injured by a toilet than win the 6/49 lottery\".format(round(lottery \n",
    "                                                                                                       / 10000, 2))\n",
    "    if n == 4:\n",
    "        return \"You are {} times more likely to be struck by lightning than win the 6/49 lottery\".format(round(lottery \n",
    "                                                                                                       / 114195, 2))\n",
    "    if n == 5:\n",
    "        return \"You are {} times more likely to meet the love of your life tomorrow than win the 6/49 lottery\".format(round(lottery \n",
    "                                                                                                       / 562, 2))\n",
    "    if n == 6:\n",
    "        return \"You are {} times more likely to win an Olympic Gold than win the 6/49 lottery\".format(round(lottery / 662000, 2))\n",
    "    if n == 7:\n",
    "        return \"You are {} times more likely to win an Oscar than win the 6/49 lottery\".format(round(lottery / 3700000, 2))\n",
    "\n",
    "# Test\n",
    "compare_odds()\n",
    "    "
   ]
  },
  {
   "cell_type": "markdown",
   "metadata": {},
   "source": [
    "# Next Step\n",
    "\n",
    "The odds are to win the 6/49 are very bad. Even if you buy many tickets or are happy to match a few numbers. The medical institute need to use the odds, create the app and help those who are adddicted."
   ]
  }
 ],
 "metadata": {
  "kernelspec": {
   "display_name": "Python 3",
   "language": "python",
   "name": "python3"
  },
  "language_info": {
   "codemirror_mode": {
    "name": "ipython",
    "version": 3
   },
   "file_extension": ".py",
   "mimetype": "text/x-python",
   "name": "python",
   "nbconvert_exporter": "python",
   "pygments_lexer": "ipython3",
   "version": "3.8.3"
  }
 },
 "nbformat": 4,
 "nbformat_minor": 4
}
